{
 "cells": [
  {
   "cell_type": "code",
   "execution_count": null,
   "metadata": {},
   "outputs": [],
   "source": [
    "import pandas as pd\n",
    "import matplotlib.pyplot as plt\n",
    "from datetime import datetime\n",
    "\n",
    "\n",
    "'''\n",
    "Remove comments from if running the coordinate_finder function\n",
    "from geopy.geocoders import Nominatim\n",
    "from geopy.exc import GeocoderTimedOut\n",
    "'''\n",
    "\n"
   ]
  },
  {
   "cell_type": "markdown",
   "metadata": {},
   "source": [
    "These are just a handful of methods that i had set up for quick use when processing data.\n",
    "\n",
    "There are several more moments where i'd wish to make more of these, especially when I break the data out below, but i also wanted to handle the data by hand to practice the manipulation and the code."
   ]
  },
  {
   "cell_type": "code",
   "execution_count": 121,
   "metadata": {},
   "outputs": [],
   "source": [
    "#Useful Functions For Bird People\n",
    "def Max_Value(data,column=str):\n",
    "    # This finds the maximum value in a column\n",
    "    max_value_item = data[column].value_counts().idxmax()\n",
    "    max_value_quantity = data[column].value_counts().max()\n",
    "    if isinstance(max_value_item, datetime):\n",
    "        max_value_item = max_value_item.date()\n",
    "\n",
    "    return max_value_item,max_value_quantity\n",
    "\n",
    "def Min_Value(data,column=str):\n",
    "    # This finds the minimum value in a column.\n",
    "    min_value_item = data[column].value_counts().idxmin()\n",
    "    min_value_quantity = data[column].value_counts().min()\n",
    "    if isinstance(min_value_item, datetime):\n",
    "        max_value_item = min_value_item.date()\n",
    "        \n",
    "    return min_value_item,min_value_quantity\n",
    "\n",
    "def Date_Fixer(data):\n",
    "    # This function sets up date and time for future use when sorting. \n",
    "    data['Date'] = data['Date_time'].dt.strftime(\"%m-%d\")\n",
    "    data['Month'] = pd.to_datetime(data['Date_time']).dt.strftime('%B')\n",
    "    return data[['Month','Date','Bird Species','Location','Date_time']]\n",
    "\n",
    "\n",
    "def date_sort_by_year(data,year):\n",
    "    # Automatic sorter for multiple years of data. \n",
    "    # The way the data is set up is that 2021 would include the last 2 months of the year before.  Counting it as the Winter-Spring season.\n",
    "    # This is more a data block for the beginning of that year.  \n",
    "    if year > 2024 or year < 2021:\n",
    "        print('year is outside current data set')\n",
    "    return data[(data['Date_time'] >= f'{str(year-1)}-11-01') & (data['Date_time'] <= f'{str(year)}-04-30')]\n",
    "\n",
    "def group_by_column(data,column_name):\n",
    "    # creates a data frame that groups by a specific column name.\n",
    "    return data.groupby(column_name).size().reset_index(name='Count').sort_values(by='Count',ascending=False)\n"
   ]
  },
  {
   "cell_type": "markdown",
   "metadata": {},
   "source": [
    "I downloaded the datafile from this website: https://feederwatch.org/explore/raw-dataset-requests/\n",
    "\n",
    "The data set i used was **checklist data 2021-2024.**\n",
    "\n",
    "When you're running this dataset, also make sure to download the **Species Translation Table** as you will need it later.\n",
    "\n",
    "Unless you want to process the data from an absolutly fresh start, you can just start on the line that has **filtered_df**\n",
    "\n",
    "it will pop an error if you try to access it without unzipping the file **;)**"
   ]
  },
  {
   "cell_type": "code",
   "execution_count": 122,
   "metadata": {},
   "outputs": [],
   "source": [
    "\n",
    "#Data Import from \"PFW_all_2021_2024_May2024_Public.csv\"\n",
    "#df_new = pd.read_csv(\"PFW_all_2021_2024_May2024_Public.csv\")\n",
    "#df_new\n"
   ]
  },
  {
   "cell_type": "code",
   "execution_count": null,
   "metadata": {},
   "outputs": [],
   "source": [
    "'''\n",
    "#Filtering list down to only contain OHIO bird spots\n",
    "filtered_df = df_new[df_new['SUBNATIONAL1_CODE'] == 'US-OH']\n",
    "filtered_df.to_csv('Ohio_Only_Birders_DF.csv')\n",
    "'''\n",
    "#Data import from 'Ohio_Only_Birders_DF.csv'\n",
    "filtered_df = pd.read_csv('Ohio_Only_Birders_DF.csv')\n",
    "filtered_df"
   ]
  },
  {
   "cell_type": "markdown",
   "metadata": {},
   "source": [
    "This process is just a lot of me checking what i have to work with, the size of the dataset at this point is about 400k rows."
   ]
  },
  {
   "cell_type": "code",
   "execution_count": null,
   "metadata": {},
   "outputs": [],
   "source": [
    "\n",
    "column_list = filtered_df.keys().tolist()\n",
    "print(column_list)\n",
    "\n",
    "filtered_df = filtered_df[['LOC_ID','LATITUDE','LONGITUDE','Month','Day','Year','SPECIES_CODE','VALID','REVIEWED']]\n",
    "filtered_df"
   ]
  },
  {
   "cell_type": "markdown",
   "metadata": {},
   "source": [
    "While reading through the feederwatch website, they talk about how they validate their data. Two of my columns are 'Valid' and 'Reviewed'\n",
    "\n",
    "If Valid = 1, and Reviewed = 1 then the bird is confirmed to be the correct species\n",
    "If Valid = 1, and Reviewed = 0 then the bird is the species, and did not need to be reviewed\n",
    "If Valid = 0, and Reviewed = 0 then the bird species may be incorrect and needs to be reviewed\n",
    "if Valid = 0, and Reviewed = 1 then the bird species is not correct and the data is not good\n",
    "\n",
    "That was at least my interpretation, I kept all VALID values that were equal to 1"
   ]
  },
  {
   "cell_type": "code",
   "execution_count": null,
   "metadata": {},
   "outputs": [],
   "source": [
    "#Checking valid data via the websites guidelines, https://feederwatch.org/explore/raw-dataset-requests/, data appears to be only valid when VALID = 1.0 and REVIEWED = 1.0 or 0.0.  I removed all other data\n",
    "#to match that format.\n",
    "valid_df = filtered_df[filtered_df['VALID'] == 1.0]\n",
    "valid_df"
   ]
  },
  {
   "cell_type": "markdown",
   "metadata": {},
   "source": [
    "I start cleaning the code here and preparing to figuring out the end game that I would like for my dataset.\n",
    "\n",
    "First things first, I removed the 'VALID' and 'REVIEWED' columns as we've sorted them out.\n",
    "\n",
    "The next plan is to get all the unique values for the 'SPECIES_CODE'\n",
    "\n",
    "**There are 108 UNIQUE species on the list which is neat!**"
   ]
  },
  {
   "cell_type": "code",
   "execution_count": null,
   "metadata": {},
   "outputs": [],
   "source": [
    "#Time to start doing some cleaning, we're starting with birds here, they currently have a species code and we'll need a list of those to convert them into their actual bird names. \n",
    "#First removing the last two columns 'VALID' and 'REVIEWED' since they are no longer needed. \n",
    "valid_df = valid_df[['LOC_ID','LATITUDE','LONGITUDE','Month','Day','Year','SPECIES_CODE']]\n",
    "valid_df['SPECIES_CODE'].unique().tolist()\n",
    "\n",
    "\n"
   ]
  },
  {
   "cell_type": "markdown",
   "metadata": {},
   "source": [
    "We import the Species Code Translator and set up a dictionary for a quick translation.  In the next code snippet we replace all of the 'SPECIES_CODE' values with their actual Species Name, so 'eursta' becomes 'European Starling'\n",
    "\n",
    "**European Starlings are as invasive as they are loud.**"
   ]
  },
  {
   "cell_type": "code",
   "execution_count": null,
   "metadata": {},
   "outputs": [],
   "source": [
    "#importing the Species Code translator\n",
    "species_code_df = pd.read_csv('PFW_spp_translation_table_May2024.csv')\n",
    "filtered_SC_df = species_code_df[['species_code','american_english_name']]\n",
    "print(filtered_SC_df)\n",
    "\n",
    "translate_dict = filtered_SC_df.set_index('species_code')['american_english_name'].to_dict()\n",
    "translate_dict\n",
    "\n"
   ]
  },
  {
   "cell_type": "code",
   "execution_count": null,
   "metadata": {},
   "outputs": [],
   "source": [
    "#replacing the SPECIES_CODE with the english bird name.\n",
    "translate_dict = filtered_SC_df.set_index('species_code')['american_english_name'].to_dict()\n",
    "translate_dict\n",
    "\n",
    "valid_df['SPECIES_CODE'] = valid_df['SPECIES_CODE'].map(translate_dict)\n",
    "valid_df\n"
   ]
  },
  {
   "cell_type": "markdown",
   "metadata": {},
   "source": [
    "The commented out section below is the matches the 'LATITUDE' and 'LONGITUDE' values to actual location in Ohio.  \n",
    "\n",
    "The method pulls the latitude and longitude data and checks using Nominatim,  which is accessible thanks to Geopy. Since you cannot rapidly pull from an API, I added a delay which when doubled with the size of the file I was converting, would cause this section to run for ~15-20 minutes.  Once the method pulls the location, it adds it back into the dataframe (it actually added two, but i just removed location_y after this point) and from there I was able to narrow the information further so that it only included **Butler County.**\n",
    "\n",
    "!NOTE!\n",
    "\n",
    "I went ahead and made a .csv file for the locations so that I wouldn't have to run this code snippet again, but I left in just in case someone wanted to play with it."
   ]
  },
  {
   "cell_type": "code",
   "execution_count": null,
   "metadata": {},
   "outputs": [],
   "source": [
    "'''\n",
    "#DO NOT RUN this unless you need to reapply the locations to the coordinates, this will run for ~20 minutes before applying locations.\n",
    "#for convenience I've written the df to a CSV\n",
    "\n",
    "\n",
    "df_coordinates = valid_df[['LATITUDE','LONGITUDE']].drop_duplicates()\n",
    "print(df_coordinates)\n",
    "\n",
    "geolocator = Nominatim(user_agent=\"geoapi\")\n",
    "\n",
    "def coordinate_finder(lat,lon):\n",
    "    try:\n",
    "        location = geolocator.reverse((lat,lon), timeout = 10)\n",
    "        return location.address if location else \"UNKNOWN\"\n",
    "    except GeocoderTimedOut:\n",
    "        return \"Timeout Error\"\n",
    "    sleep(1)\n",
    "\n",
    "df_coordinates['location'] = df_coordinates.apply(\n",
    "    lambda row: coordinate_finder(row['LATITUDE'],row['LONGITUDE']), axis=1\n",
    ")\n",
    "\n",
    "df_coordinates = df_coordinates.merge(df_coordinates,on=['LATITUDE','LONGITUDE'], how='left')\n",
    "\n",
    "df_coordinates_final = df_coordinates[['LATITUDE','LONGITUDE','location_x']]\n",
    "df_coordinates_final.to_csv('coords_location_df.csv', sep=',',encoding='utf-8',index=False,header=True)\n",
    "\n",
    "'''\n"
   ]
  },
  {
   "cell_type": "code",
   "execution_count": null,
   "metadata": {},
   "outputs": [],
   "source": [
    "## IF YOU SKIPPED THE COORDINATE FINDER METHOD, YOU START HERE.\n",
    "df_coordinates_final = pd.read_csv(\"coords_location_df.csv\")\n",
    "df_coordinates_final"
   ]
  },
  {
   "cell_type": "markdown",
   "metadata": {},
   "source": [
    "This is finally at the end game on the data.  As mentioned above, I sorted the data to only be in **Butler County** and from there I removed any excess columns and changed the names of 'SPECIES_CODE' to 'Bird Species' and 'location_x' to 'Location' for readability.  After that we turn the 'Month','Day','Year' columns into an actual 'Date_time' column and sort all of our data by year, the way the data is set up it goes from November of the following year to April of the year.  \n",
    "\n",
    "*ex: df_2021 is from 11-01-2020 to 4-30-2021*\n",
    "\n",
    "This is where I start using my methods since I wanted to do a section for each year.\n"
   ]
  },
  {
   "cell_type": "code",
   "execution_count": null,
   "metadata": {},
   "outputs": [],
   "source": [
    "merged_loc_df = pd.merge(valid_df,df_coordinates_final,on=['LATITUDE','LONGITUDE'],how='left')\n",
    "butler_county_df = merged_loc_df[merged_loc_df['location_x'].str.contains('Butler County')]\n",
    "final_df = butler_county_df.rename(columns={'SPECIES_CODE': 'Bird Species','location_x' : 'Location'})\n",
    "final_df['Date_time'] = pd.to_datetime(final_df[['Month','Day','Year']])\n",
    "\n",
    "## TODO ##\n",
    "# Set up a search function for a bird, will have to look into sorting the Bird Species list and setting it up.\n",
    "Nuthatch_df_temp = final_df[(final_df['Bird Species'].str.contains('White-breasted Nuthatch'))]\n",
    "print(Nuthatch_df_temp.size)\n",
    "df_2021 = Date_Fixer(date_sort_by_year(final_df,2021))\n",
    "df_2022 = Date_Fixer(date_sort_by_year(final_df,2022))\n",
    "df_2023 = Date_Fixer(date_sort_by_year(final_df,2023))\n",
    "df_2024 = Date_Fixer(date_sort_by_year(final_df,2024))\n",
    "Nuthatch_df = Date_Fixer(Nuthatch_df_temp)\n",
    "\n",
    "print(Nuthatch_df.size)\n",
    "column_lists = list(df_2021.columns)\n",
    "\n"
   ]
  },
  {
   "cell_type": "markdown",
   "metadata": {},
   "source": [
    "# Fun Bird Stats for 2021\n",
    "- In 2021, we saw a variety of birds, 52 varieties to be exact!\n",
    "- The most common bird is the Northern Cardinal with 210 sightings!\n",
    "- The least seen bird is the Ruby-throated Hummingbird with 1 sightings!\n",
    "- The busiest location is 6963, Imhoff Road, Reily Township, Butler County, Ohio, 45056, United States with 439 visits!\n",
    "- The busiest day is 11-30 with 81 visits!"
   ]
  },
  {
   "cell_type": "code",
   "execution_count": null,
   "metadata": {},
   "outputs": [],
   "source": [
    "\n",
    "#2021 Stats\n",
    "print(df_2021.shape)\n",
    "print('- In 2021, we saw a variety of birds, ' + str(len(list(df_2021['Bird Species'].unique()))) + ' varieties to be exact!')\n",
    "\n",
    "#Top Bird\n",
    "top_bird_df_2021,top_bird_count_2021 = Max_Value(df_2021,'Bird Species')\n",
    "print(f'- The most common bird is the {top_bird_df_2021} with {top_bird_count_2021} sightings!')\n",
    "\n",
    "#Rare Bird\n",
    "rare_bird_df_2021,rare_bird_count_2021 = Min_Value(df_2021,'Bird Species')\n",
    "print(f'- The least common bird is the {rare_bird_df_2021} with {rare_bird_count_2021} sightings!')\n",
    "\n",
    "#Busiest Location\n",
    "busiest_location_df_2021,location_visits_df_2021 = Max_Value(df_2021,'Location')\n",
    "print(f'- The busiest location is {busiest_location_df_2021} with {location_visits_df_2021} visits!')\n",
    "\n",
    "#Busiest Day\n",
    "busiest_day_df_2021, day_visits_df_2021 = Max_Value(df_2021,'Date')\n",
    "print(f'- The busiest day is {busiest_day_df_2021} with {day_visits_df_2021} visits!')"
   ]
  },
  {
   "cell_type": "markdown",
   "metadata": {},
   "source": [
    "# Fun Bird Stats For 2022\n",
    "- In 2022, we saw a variety of birds, 59 varieties to be exact!\n",
    "- The most common bird is the Northern Cardinal with 214 sightings!\n",
    "- The least common bird is the Yellow-bellied Sapsucker with 1 sightings!\n",
    "- The busiest location is 7061, Forest View Drive, West Chester Township, Butler County, Ohio, 45069, United States with 555 visits!\n",
    "- The busiest day is 03-12 with 96 visits!"
   ]
  },
  {
   "cell_type": "code",
   "execution_count": null,
   "metadata": {},
   "outputs": [],
   "source": [
    "#2022 Stats\n",
    "\n",
    "print(df_2022.shape)\n",
    "print('- In 2022, we saw a variety of birds, ' + str(len(list(df_2022['Bird Species'].unique()))) + ' varieties to be exact!')\n",
    "\n",
    "#Top Bird\n",
    "top_bird_df_2022,top_bird_count_2022 = Max_Value(df_2022,'Bird Species')\n",
    "print(f'- The most common bird is the {top_bird_df_2022} with {top_bird_count_2022} sightings!')\n",
    "\n",
    "#Rare Bird\n",
    "rare_bird_df_2022,rare_bird_count_2022 = Min_Value(df_2022,'Bird Species')\n",
    "print(f'- The least common bird is the {rare_bird_df_2022} with {rare_bird_count_2022} sightings!')\n",
    "\n",
    "#Busiest Location\n",
    "busiest_location_df_2022,location_visits_df_2022 = Max_Value(df_2022,'Location')\n",
    "print(f'- The busiest location is {busiest_location_df_2022} with {location_visits_df_2022} visits!')\n",
    "\n",
    "#Busiest Day\n",
    "busiest_day_df_2022, day_visits_df_2022 = Max_Value(df_2022,'Date')\n",
    "print(f'- The busiest day is {busiest_day_df_2022} with {day_visits_df_2022} visits!')\n"
   ]
  },
  {
   "cell_type": "markdown",
   "metadata": {},
   "source": [
    "# Fun Bird Stats For 2023\n",
    "- In 2023, we saw a variety of birds, 57 varieties to be exact!\n",
    "- The most common bird is the Northern Cardinal with 188 sightings!\n",
    "- The least common bird is the Evening Grosbeak with 1 sightings!\n",
    "- The busiest location is 7061, Forest View Drive, West Chester Township, Butler County, Ohio, 45069, United States with 626 visits!\n",
    "- The busiest day is 03-25 with 108 visits!\n"
   ]
  },
  {
   "cell_type": "code",
   "execution_count": null,
   "metadata": {},
   "outputs": [],
   "source": [
    "#2023 Stats\n",
    "print(df_2023.shape)\n",
    "print('- In 2023, we saw a variety of birds, ' + str(len(list(df_2023['Bird Species'].unique()))) + ' varieties to be exact!')\n",
    "\n",
    "#Top Bird\n",
    "top_bird_df_2023,top_bird_count_2023 = Max_Value(df_2023,'Bird Species')\n",
    "print(f'- The most common bird is the {top_bird_df_2023} with {top_bird_count_2023} sightings!')\n",
    "\n",
    "#Rare Bird\n",
    "rare_bird_df_2023,rare_bird_count_2023 = Min_Value(df_2023,'Bird Species')\n",
    "print(f'- The least common bird is the {rare_bird_df_2023} with {rare_bird_count_2023} sightings!')\n",
    "\n",
    "#Busiest Location\n",
    "busiest_location_df_2023,location_visits_df_2023 = Max_Value(df_2023,'Location')\n",
    "print(f'- The busiest location is {busiest_location_df_2023} with {location_visits_df_2023} visits!')\n",
    "\n",
    "#Busiest Day\n",
    "busiest_day_df_2023, day_visits_df_2023 = Max_Value(df_2023,'Date')\n",
    "print(f'- The busiest day is {busiest_day_df_2023} with {day_visits_df_2023} visits!')\n"
   ]
  },
  {
   "cell_type": "markdown",
   "metadata": {},
   "source": [
    "# Fun Bird Stats For 2024\n",
    "- In 2024, we saw a variety of birds, 61 varieties to be exact!\n",
    "- The most common bird is the House Finch with 229 sightings!\n",
    "- The least common bird is the Evening Grosbeak with 1 sightings!\n",
    "- The busiest location is Oxford Millville Road, Oxford, Hanover Township, Butler County, Ohio, 45056, United States with 609 visits!\n",
    "- The busiest day is 02-03 with 131 visits!"
   ]
  },
  {
   "cell_type": "code",
   "execution_count": null,
   "metadata": {},
   "outputs": [],
   "source": [
    "#2024 Stats\n",
    "print(df_2024.shape)\n",
    "print('- In 2024, we saw a variety of birds, ' + str(len(list(df_2024['Bird Species'].unique()))) + ' varieties to be exact!')\n",
    "\n",
    "#Top Bird\n",
    "top_bird_df_2024,top_bird_count_2024 = Max_Value(df_2024,'Bird Species')\n",
    "print(f'- The most common bird is the {top_bird_df_2024} with {top_bird_count_2024} sightings!')\n",
    "\n",
    "#Rare Bird\n",
    "rare_bird_df_2024,rare_bird_count_2024 = Min_Value(df_2024,'Bird Species')\n",
    "print(f'- The least common bird is the {rare_bird_df_2024} with {rare_bird_count_2024} sightings!')\n",
    "\n",
    "#Busiest Location\n",
    "busiest_location_df_2024,location_visits_df_2024 = Max_Value(df_2024,'Location')\n",
    "print(f'- The busiest location is {busiest_location_df_2024} with {location_visits_df_2024} visits!')\n",
    "\n",
    "#Busiest Day\n",
    "busiest_day_df_2024, day_visits_df_2024 = Max_Value(df_2024,'Date')\n",
    "print(f'- The busiest day is {busiest_day_df_2024} with {day_visits_df_2024} visits!')\n",
    "\n",
    "\n"
   ]
  },
  {
   "cell_type": "markdown",
   "metadata": {},
   "source": [
    "Below is a lot of data sorting before I move onto plotting data.\n",
    "\n",
    "For the project currently, I only used **feeder_visits** and **Nuthatch_df**\n",
    "\n",
    "I did add some prints for some fun information: top 5 birds, top 5 locations "
   ]
  },
  {
   "cell_type": "code",
   "execution_count": null,
   "metadata": {},
   "outputs": [],
   "source": [
    "#2021\n",
    "\n",
    "print(df_2021.columns.tolist())\n",
    "\n",
    "birds_of_2021 = group_by_column(df_2021,'Bird Species')\n",
    "Locations_of_2021 = group_by_column(df_2021,'Location')\n",
    "feeder_visits_2021 = group_by_column(df_2021,'Month')\n",
    "popular_dates_2021 = group_by_column(df_2021,'Date')\n",
    "\n",
    "\n",
    "print(birds_of_2021.head(5))\n",
    "print(Locations_of_2021.head(5))\n",
    "print(popular_dates_2021.head(5))\n",
    "\n",
    "feeder_visits_2021\n",
    "\n",
    "\n"
   ]
  },
  {
   "cell_type": "code",
   "execution_count": null,
   "metadata": {},
   "outputs": [],
   "source": [
    "#2022\n",
    "birds_of_2022 = group_by_column(df_2022,'Bird Species')\n",
    "Locations_of_2022 = group_by_column(df_2022,'Location')\n",
    "feeder_visits_2022 = group_by_column(df_2022,'Month')\n",
    "popular_dates_2022 = group_by_column(df_2022,'Date')\n",
    "\n",
    "print(birds_of_2022.head(5))\n",
    "print(Locations_of_2022.head(5))\n",
    "\n",
    "feeder_visits_2022\n"
   ]
  },
  {
   "cell_type": "code",
   "execution_count": null,
   "metadata": {},
   "outputs": [],
   "source": [
    "#2023\n",
    "birds_of_2023 = group_by_column(df_2023,'Bird Species')\n",
    "Locations_of_2023 = group_by_column(df_2023,'Location')\n",
    "feeder_visits_2023 = group_by_column(df_2023,'Month')\n",
    "popular_dates_2023 = group_by_column(df_2023,'Date')\n",
    "\n",
    "print(birds_of_2023.head(5))\n",
    "print(Locations_of_2023.head(5))\n",
    "\n",
    "feeder_visits_2023\n"
   ]
  },
  {
   "cell_type": "code",
   "execution_count": null,
   "metadata": {},
   "outputs": [],
   "source": [
    "#2024\n",
    "birds_of_2024 = group_by_column(df_2024,'Bird Species')\n",
    "Locations_of_2024 = group_by_column(df_2024,'Location')\n",
    "feeder_visits_2024 = group_by_column(df_2024,'Month')\n",
    "popular_dates_2024 = group_by_column(df_2024,'Date')\n",
    "\n",
    "print(birds_of_2024.head(5))\n",
    "print(Locations_of_2024.head(5))\n",
    "\n",
    "feeder_visits_2024\n"
   ]
  },
  {
   "cell_type": "code",
   "execution_count": null,
   "metadata": {},
   "outputs": [],
   "source": [
    "# Feeder Visits Total, for graphing purposes\n",
    "feeder_visits_total = pd.DataFrame(columns=['Month'])\n",
    "\n",
    "feeder_visits_list = [feeder_visits_2021,feeder_visits_2022,feeder_visits_2023,feeder_visits_2024]\n",
    "year = 2021\n",
    "for i in feeder_visits_list:\n",
    "    i.rename(columns={'Count': f'Count {str(year)}'},inplace=True)\n",
    "    feeder_visits_total = pd.merge(feeder_visits_total,i,on='Month',how='outer')\n",
    "    year += 1\n",
    "\n",
    "feeder_visits_total.set_index('Month',inplace=True)\n",
    "feeder_visits_total = feeder_visits_total.reindex(['November','December','January','February','March','April'])\n",
    "\n",
    "\n",
    "print(feeder_visits_total)\n"
   ]
  },
  {
   "cell_type": "markdown",
   "metadata": {},
   "source": [
    "This is a plot just for number of feeder visits per Month!\n",
    "\n",
    "To be honest, I found this information to be much less interesting than I expected."
   ]
  },
  {
   "cell_type": "code",
   "execution_count": null,
   "metadata": {},
   "outputs": [],
   "source": [
    "### PLOTS ###\n",
    "#  matplotlib is plt\n",
    "ax = feeder_visits_total.plot(kind='bar')\n",
    "\n",
    "ax.set_title('Monthly bird visits')\n",
    "ax.set_xlabel('Month')\n",
    "ax.set_ylabel('Number of Birds')\n",
    "\n",
    "plt.xticks(rotation=45)\n",
    "\n",
    "plt.tight_layout()\n",
    "plt.grid()\n",
    "plt.xlabel('Month')\n",
    "plt.ylabel('Number of Birds')\n",
    "plt.title('Numbers of Birds Per Month')\n",
    "plt.legend()\n",
    "\n",
    "plt.show()"
   ]
  },
  {
   "cell_type": "markdown",
   "metadata": {},
   "source": [
    "### Congratulations if you've made it this far, now we'll talk about my favorite bird!\n",
    "\n",
    "The graphs are for the nuthatches most active months, January and December, added together over the years for a look at what days Nuthatch's prefer to visit their local feeders.   I had noticed in the Nuthatch Locations that they were constantly showing up at the Imhoff Rd. Feeder so that means I could have a good chance of going and seeing in this coming year on 12/27/24 or 1/10/25!\n",
    "\n",
    "I will have to update if my local Nuthatch shows up on my feeders during that time.\n",
    "\n",
    "If you're still itching for more White-Breasted Nuthatch information, [Click Here](https://www.allaboutbirds.org/guide/White-breasted_Nuthatch/overview)"
   ]
  },
  {
   "cell_type": "code",
   "execution_count": null,
   "metadata": {},
   "outputs": [],
   "source": [
    "print(Nuthatch_df.size)\n",
    "\n",
    "Nuthatch_Monthly_df = group_by_column(Nuthatch_df,'Month')\n",
    "Nuthatch_Locations_df = group_by_column(Nuthatch_df,'Location')\n",
    "Nuthatch_January_df = Nuthatch_df[(Nuthatch_df['Month'] == 'January')]\n",
    "Nuthatch_January_Days_df = group_by_column(Nuthatch_January_df,'Date')\n",
    "Nuthatch_December_df = Nuthatch_df[(Nuthatch_df['Month'] == 'December')]\n",
    "Nuthatch_December_Days_df = group_by_column(Nuthatch_December_df,'Date')\n",
    "print(Nuthatch_Monthly_df.head(5))\n",
    "print(Nuthatch_Locations_df.head(5))\n",
    "print(Nuthatch_December_Days_df.head(5))\n",
    "print(Nuthatch_January_Days_df.head(5))"
   ]
  },
  {
   "cell_type": "code",
   "execution_count": null,
   "metadata": {},
   "outputs": [],
   "source": [
    "#NUTHATCH January CHART\n",
    "Nuthatch_January_Days_df.sort_values(by='Date',ascending=True,inplace=True)\n",
    "plt.plot(Nuthatch_January_Days_df['Date'],Nuthatch_January_Days_df['Count'],marker='o',color='green',label='Daily Bird Count')\n",
    "plt.xlabel('Date')\n",
    "plt.ylabel('Count')\n",
    "plt.title('January Nuthatch Count')\n",
    "plt.xticks(rotation=45)\n",
    "plt.legend()\n",
    "plt.tight_layout()\n",
    "plt.grid()\n",
    "plt.show()\n",
    "\n"
   ]
  },
  {
   "cell_type": "code",
   "execution_count": null,
   "metadata": {},
   "outputs": [],
   "source": [
    "#NUTHATCH December CHART\n",
    "Nuthatch_December_Days_df.sort_values(by='Date',ascending=True,inplace=True)\n",
    "plt.plot(Nuthatch_December_Days_df['Date'],Nuthatch_December_Days_df['Count'],marker='o',color='blue',label='Daily Bird Count')\n",
    "plt.xlabel('Date')\n",
    "plt.ylabel('Count')\n",
    "plt.title('December Nuthatch Count')\n",
    "plt.xticks(rotation=45)\n",
    "plt.legend()\n",
    "plt.tight_layout()\n",
    "plt.grid()\n",
    "plt.show()"
   ]
  }
 ],
 "metadata": {
  "kernelspec": {
   "display_name": "Python 3",
   "language": "python",
   "name": "python3"
  },
  "language_info": {
   "codemirror_mode": {
    "name": "ipython",
    "version": 3
   },
   "file_extension": ".py",
   "mimetype": "text/x-python",
   "name": "python",
   "nbconvert_exporter": "python",
   "pygments_lexer": "ipython3",
   "version": "3.13.0rc3"
  }
 },
 "nbformat": 4,
 "nbformat_minor": 2
}
